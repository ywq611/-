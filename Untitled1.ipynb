{
 "cells": [
  {
   "cell_type": "code",
   "execution_count": 90,
   "id": "0d8524c0",
   "metadata": {},
   "outputs": [],
   "source": [
    "import pandas as pd\n",
    "import numpy as np\n",
    "import os"
   ]
  },
  {
   "cell_type": "code",
   "execution_count": 73,
   "id": "07478530",
   "metadata": {
    "scrolled": true
   },
   "outputs": [
    {
     "name": "stdout",
     "output_type": "stream",
     "text": [
      "Current Working Directory: C:\\Users\\32256\\Desktop\\data\n"
     ]
    }
   ],
   "source": [
    "print(\"Current Working Directory:\", os.getcwd())"
   ]
  },
  {
   "cell_type": "code",
   "execution_count": 74,
   "id": "91a73a16",
   "metadata": {},
   "outputs": [],
   "source": [
    "path = os.path.expanduser(\"~/Desktop/data\")\n",
    "file_names = [\"FI_T1\", \"FI_T4\", \"FI_T5\", \"FI_T8\", \"FS_Combas\", \"FS_Comins\", \"FS_Comscfd\"]"
   ]
  },
  {
   "cell_type": "code",
   "execution_count": 75,
   "id": "ddfb78a4",
   "metadata": {},
   "outputs": [],
   "source": [
    "data_frames = {}"
   ]
  },
  {
   "cell_type": "code",
   "execution_count": 76,
   "id": "2efe0d47",
   "metadata": {},
   "outputs": [],
   "source": [
    "for file_name in file_names:\n",
    "    file_path = os.path.join(path, f\"{file_name}.csv\")\n",
    "    \n",
    "    if os.path.exists(file_path):\n",
    "        # 只保留 Typrep 为 \"A\" 的行\n",
    "        df = pd.read_csv(file_path)\n",
    "        df_filtered = df[df['Typrep'] == 'A'].copy()\n",
    "        \n",
    "        # 重命名非键列以避免重复\n",
    "        rename_dict = {col: f\"{col}_{file_name}\" for col in df_filtered.columns if col not in ['Stkcd', 'Accper', 'Typrep']}\n",
    "        df_filtered.rename(columns=rename_dict, inplace=True)\n",
    "        \n",
    "        data_frames[file_name] = df_filtered\n",
    "    else:\n",
    "        print(f\"File not found: {file_path}\")"
   ]
  },
  {
   "cell_type": "code",
   "execution_count": 77,
   "id": "c6f90c2a",
   "metadata": {
    "scrolled": false
   },
   "outputs": [],
   "source": [
    "if 'FS_Comins' in data_frames:\n",
    "    # 使用 'FS_Comins' 作为基准\n",
    "    base_df = data_frames.pop('FS_Comins')  # 移除并获取 'FS_Comins' 以便作为基准\n",
    "    \n",
    "    # 初始化合并后的数据框为基准数据框\n",
    "    merged_df = base_df\n",
    "    \n",
    "    for file_name, df in data_frames.items():\n",
    "        # 合并数据框，使用 'Stkcd' 和 'Accper' 作为键，并添加后缀防止重复列名\n",
    "        merged_df = pd.merge(merged_df, df, on=['Stkcd', 'Accper'], how='left', suffixes=('', f'_{file_name}'))\n",
    "else:\n",
    "    print(\"Base file 'FS_Comins' not found.\")\n"
   ]
  },
  {
   "cell_type": "code",
   "execution_count": 78,
   "id": "73ac208f",
   "metadata": {},
   "outputs": [],
   "source": [
    "columns_to_drop = [col for i, col in enumerate(merged_df.columns) if i >= 4 and ('ShortName' in col or 'Typrep' in col)]\n",
    "merged_df.drop(columns=columns_to_drop, inplace=True)\n"
   ]
  },
  {
   "cell_type": "code",
   "execution_count": 79,
   "id": "efc24d6b",
   "metadata": {},
   "outputs": [
    {
     "name": "stdout",
     "output_type": "stream",
     "text": [
      "Merged data has been saved to C:\\Users\\32256/Desktop/data\\merged_data.csv\n"
     ]
    }
   ],
   "source": [
    "output_file_path = os.path.join(path, \"merged_data.csv\")\n",
    "merged_df.to_csv(output_file_path, index=False)\n",
    "\n",
    "print(f\"Merged data has been saved to {output_file_path}\")"
   ]
  },
  {
   "cell_type": "code",
   "execution_count": 80,
   "id": "83e0f4ed",
   "metadata": {},
   "outputs": [],
   "source": [
    "# 定义一个函数来生成映射字典\n",
    "def generate_column_mapping(column_names, mappings_dict):\n",
    "    mapping = {}\n",
    "    \n",
    "    for col in column_names:\n",
    "        if col in mappings_dict:\n",
    "            mapping[col] = mappings_dict[col]\n",
    "        else:\n",
    "            # 如果没有明确的映射，可以选择保留原名或设置默认值\n",
    "            mapping[col] = col \n",
    "    \n",
    "    return mapping"
   ]
  },
  {
   "cell_type": "code",
   "execution_count": 81,
   "id": "9fe06b35",
   "metadata": {},
   "outputs": [],
   "source": [
    "# 假设 merged_df 已经存在并且已经加载了合并后的数据\n",
    "# 如果还没有加载，请先读取 CSV 文件\n",
    "# merged_df = pd.read_csv('path_to_merged_data.csv')\n",
    "\n",
    "# 创建一个映射字典，用于将旧列名映射到新的描述性列名\n",
    "mappings_dict = {\n",
    "    'B001100000_FS_Comins': '营业总收入',\n",
    "    'B001101000_FS_Comins':'营业收入',\n",
    "    'Bbd1102203_FS_Comins':'利息支出',\n",
    "    'B001200000_FS_Comins':'营业总成本',\n",
    "    'B001201000_FS_Comins':'营业成本',\n",
    "    'B001211101_FS_Comins':'其中：利息费用(财务费用)',\n",
    "    'B001300000_FS_Comins':'营业利润',\n",
    "    'B002000000_FS_Comins':'净利润',\n",
    "    'B002000401_FS_Comins':'持续经营净利润',\n",
    "    'B002000501_FS_Comins':'终止经营净利润',\n",
    "    'F010101A_FI_T1':'流动比率',\n",
    "    'F010201A_FI_T1':'速动比率',\n",
    "    'F010301A_FI_T1':'保守速动比率',\n",
    "    'F010401A_FI_T1':'现金比率',\n",
    "    'F010701B_FI_T1':'利息保障倍数A',\n",
    "    'F010702B_FI_T1':'利息保障倍数B',\n",
    "    'F010801B_FI_T1':'经营活动产生的现金流量净额／流动负债',\n",
    "    'F010901B_FI_T1':'现金流利息保障倍数',\n",
    "    'F011001B_FI_T1':'现金流到期债务保障倍数',\n",
    "    'F011201A_FI_T1':'资产负债率',\n",
    "    'F011301A_FI_T1':'长期借款与总资产比',\n",
    "    'F011401A_FI_T1':'有形资产负债率',\n",
    "    'F011501A_FI_T1':'有形资产带息债务比',\n",
    "    'F011601A_FI_T1':'权益乘数',\n",
    "    'F011901A_FI_T1':'长期资本负债率',\n",
    "    'F012301B_FI_T1':'经营活动产生的现金流量净额／负债合计',\n",
    "    'F012401B_FI_T1':'经营活动产生的现金流量净额／带息债务',\n",
    "    'F020502A_FI_T1':'权益乘数2',\n",
    "    'F040201B_FI_T4':'应收账款周转率A',\n",
    "    'F040202B_FI_T4':'应收账款周转率B',\n",
    "    'F040203B_FI_T4':'应收账款周转率C',\n",
    "    'F040204B_FI_T4':'应收账款周转率D',\n",
    "    'F040205C_FI_T4':'应收账款周转率TTM',\n",
    "    'F040501B_FI_T4':'存货周转率A',\n",
    "    'F040502B_FI_T4':'存货周转率B',\n",
    "    'F040503B_FI_T4':'存货周转率C',\n",
    "    'F040504B_FI_T4':'存货周转率D',\n",
    "    'F040505C_FI_T4':'存货周转率TTM',\n",
    "    'F040801B_FI_T4':'应付账款周转率A',\n",
    "    'F040802B_FI_T4':'应付账款周转率B',\n",
    "    'F040803B_FI_T4':'应付账款周转率C',\n",
    "    'F040804B_FI_T4':'应付账款周转率D',\n",
    "    'F040805C_FI_T4':'应付账款周转率TTM',\n",
    "    'F040901B_FI_T4':'营运资金(资本)周转率A',\n",
    "    'F040902B_FI_T4':'营运资金(资本)周转率B',\n",
    "    'F040903B_FI_T4':'营运资金(资本)周转率C',\n",
    "    'F040904B_FI_T4':'营运资金(资本)周转率D',\n",
    "    'F040905C_FI_T4':'营运资金(资本)周转率TTM',\n",
    "    'F041201B_FI_T4':'流动资产周转率A',\n",
    "    'F041202B_FI_T4':'流动资产周转率B',\n",
    "    'F041203B_FI_T4':'流动资产周转率C',\n",
    "    'F041204B_FI_T4':'流动资产周转率D',\n",
    "    'F041205C_FI_T4':'流动资产周转率TTM',\n",
    "    'F041601B_FI_T4':'资本密集度',\n",
    "    'F041701B_FI_T4':'总资产周转率A',\n",
    "    'F041702B_FI_T4':'总资产周转率B',\n",
    "    'F041703B_FI_T4':'总资产周转率C',\n",
    "    'F041704B_FI_T4':'总资产周转率D',\n",
    "    'F041705C_FI_T4':'总资产周转率TTM',\n",
    "    'F050101B_FI_T5':'资产报酬率A',\n",
    "    'F050102B_FI_T5':'资产报酬率B',\n",
    "    'F050103B_FI_T5':'资产报酬率C',\n",
    "    'F050104C_FI_T5':'资产报酬率TTM',\n",
    "    'F050201B_FI_T5':'总资产净利润率(ROA)A',\n",
    "    'F050202B_FI_T5':'总资产净利润率(ROA)B',\n",
    "    'F050203B_FI_T5':'总资产净利润率(ROA)C',\n",
    "    'F050204C_FI_T5':'总资产净利润率(ROA)TTM',\n",
    "    'F050501B_FI_T5':'净资产收益率（ROE）A',\n",
    "    'F050502B_FI_T5':'净资产收益率（ROE）B',\n",
    "    'F050503B_FI_T5':'净资产收益率（ROE）C',\n",
    "    'F050504C_FI_T5':'净资产收益率（ROE）TTM',\n",
    "    'F050601B_FI_T5':'息税前利润（EBIT）',\n",
    "    'F050601C_FI_T5':'息税前利润（EBIT）TTM',\n",
    "    'F050801B_FI_T5':'息税折旧摊销前收入（EBITDA）',\n",
    "    'F050801C_FI_T5':'息税折旧摊销前收入（EBITDA）TTM',\n",
    "    'F051401B_FI_T5':'营业利润率',\n",
    "    'F051401C_FI_T5':'营业利润率TTM',\n",
    "    'F051501B_FI_T5':'营业净利率',\n",
    "    'F051501C_FI_T5':'营业净利率TTM',\n",
    "    'F081001B_FI_T8':'净利润增长率A',\n",
    "    'F081002B_FI_T8':'净利润增长率B',\n",
    "    'F081401B_FI_T8':'综合收益增长率',\n",
    "    'F081601B_FI_T8':'营业收入增长率A',\n",
    "    'F081602C_FI_T8':'营业收入增长率B',\n",
    "    'F082601B_FI_T8':'可持续增长率',\n",
    "    'F082701A_FI_T8':'所有者权益增长率A',\n",
    "    'F082702A_FI_T8':'所有者权益增长率B',\n",
    "    'F081003B_FI_T8':'净利润增长率C',\n",
    "    'F081603B_FI_T8':'营业收入增长率C',\n",
    "    'F080603A_FI_T8':'总资产增长率C',\n",
    "    'F081103B_FI_T8':'利润总额增长率C',\n",
    "    'F081203B_FI_T8':'营业利润增长率C',\n",
    "    'F082602B_FI_T8':'可持续增长率2',\n",
    "    'F082603B_FI_T8':'可持续增长率3',\n",
    "    \"A001101000_FS_Combas\":'货币资金',\n",
    "    'A001000000_FS_Combas':'资产总计',\n",
    "    'A002101000_FS_Combas':'短期借款',\n",
    "    'A002107000_FS_Combas':'应付票据',\n",
    "    'A002125000_FS_Combas':'一年内到期的非流动负债',\n",
    "    'A002100000_FS_Combas':'流动负债合计',\n",
    "    'A002201000_FS_Combas':'长期借款',\n",
    "    'A002206000_FS_Combas':'长期负债合计',\n",
    "    'A002200000_FS_Combas':'非流动负债合计',\n",
    "    'A002000000_FS_Combas':'负债合计',\n",
    "    'A003000000_FS_Combas':'所有者权益合计',\n",
    "    'C001000000_FS_Comscfd':'经营活动产生的现金流量净额',\n",
    "    'C002006000_FS_Comscfd':'购建固定资产、无形资产和其他长期资产支付的现金',\n",
    "    'C003000000_FS_Comscfd':'筹资活动产生的现金流量净额',\n",
    "}\n"
   ]
  },
  {
   "cell_type": "code",
   "execution_count": 100,
   "id": "e778f39d",
   "metadata": {},
   "outputs": [
    {
     "name": "stdout",
     "output_type": "stream",
     "text": [
      "Renamed data has been saved to C:\\Users\\32256/Desktop/data\\merged_data_renamed.csv\n"
     ]
    }
   ],
   "source": [
    "# 获取当前的列名并生成映射\n",
    "current_columns = merged_df.columns.tolist()\n",
    "column_mapping = generate_column_mapping(current_columns, mappings_dict)\n",
    "\n",
    "# 使用 rename 方法来重命名列\n",
    "merged_df.rename(columns=column_mapping, inplace=True)\n",
    "\n",
    "# 保存修改后的数据框到新的 CSV 文件\n",
    "output_file_path = os.path.join(os.path.expanduser(\"~/Desktop/data\"), \"merged_data_renamed.csv\")\n",
    "merged_df.to_csv(output_file_path, index=False)\n",
    "\n",
    "print(f\"Renamed data has been saved to {output_file_path}\")"
   ]
  },
  {
   "cell_type": "code",
   "execution_count": 101,
   "id": "1bb51183",
   "metadata": {},
   "outputs": [
    {
     "name": "stdout",
     "output_type": "stream",
     "text": [
      "   Stkcd ShortName_FS_Comins      Accper Typrep         营业总收入  营业收入  \\\n",
      "0      1                深发展A  2000-01-01      A  1.079658e+09   NaN   \n",
      "1      1                深发展A  2000-06-30      A  5.639427e+08   NaN   \n",
      "2      1                深发展A  2000-12-31      A  1.431286e+09   NaN   \n",
      "3      1                深发展A  2001-01-01      A  1.431286e+09   NaN   \n",
      "4      1                深发展A  2001-06-30      A  8.365142e+08   NaN   \n",
      "\n",
      "          利息支出         营业总成本  营业成本  其中：利息费用(财务费用)  ...  一年内到期的非流动负债  流动负债合计  \\\n",
      "0  850274837.0  1.070282e+09   NaN            NaN  ...          NaN     NaN   \n",
      "1  385382868.0  5.245139e+08   NaN            NaN  ...   41396500.0     NaN   \n",
      "2  963777007.0  1.259262e+09   NaN            NaN  ...          NaN     NaN   \n",
      "3  963777007.0  1.302838e+09   NaN            NaN  ...          NaN     NaN   \n",
      "4  727320938.0  7.680241e+08   NaN            NaN  ...          NaN     NaN   \n",
      "\n",
      "   长期借款  长期负债合计  非流动负债合计          负债合计       所有者权益合计  经营活动产生的现金流量净额  \\\n",
      "0   NaN     NaN      NaN  4.277079e+10  1.141604e+09   4.599516e+09   \n",
      "1   NaN     NaN      NaN  4.665382e+10  3.078513e+09   1.723404e+08   \n",
      "2   NaN     NaN      NaN  6.248862e+10  4.738884e+09   1.591065e+09   \n",
      "3   NaN     NaN      NaN  6.248862e+10  3.517551e+09            NaN   \n",
      "4   NaN     NaN      NaN  8.021960e+10  4.961824e+09   1.230181e+09   \n",
      "\n",
      "   购建固定资产、无形资产和其他长期资产支付的现金  筹资活动产生的现金流量净额  \n",
      "0              344873212.0  -5.238779e+08  \n",
      "1              296421494.0  -1.275673e+08  \n",
      "2              576746137.0   2.827087e+09  \n",
      "3                      NaN            NaN  \n",
      "4              603965990.0  -1.410685e+06  \n",
      "\n",
      "[5 rows x 112 columns]\n"
     ]
    }
   ],
   "source": [
    "# 读取重命名后的数据框\n",
    "input_file_path = os.path.join(os.path.expanduser(\"~/Desktop/data\"), \"merged_data_renamed.csv\")\n",
    "merged_df = pd.read_csv(input_file_path)\n",
    "print(merged_df.head())"
   ]
  },
  {
   "cell_type": "code",
   "execution_count": 102,
   "id": "45325707",
   "metadata": {},
   "outputs": [],
   "source": [
    "# 定义计算新列的函数\n",
    "def add_financial_indicators(df):\n",
    "    # 确保所有需要的列都存在\n",
    "    required_columns = [\n",
    "        '所有者权益合计', '负债合计', '经营活动产生的现金流量净额', \n",
    "        '货币资金', '短期借款', '长期借款',\n",
    "        '息税折旧摊销前收入（EBITDA）TTM', '其中：利息费用(财务费用)', \n",
    "        '购建固定资产、无形资产和其他长期资产支付的现金', '资产总计'\n",
    "    ]\n",
    "    \n",
    "    # 去除列名的前后空格\n",
    "    df.columns = df.columns.str.strip()\n",
    "    \n",
    "    # 检查是否缺少必需的列\n",
    "    missing_columns = set(required_columns) - set(df.columns)\n",
    "    if missing_columns:\n",
    "        print(f\"警告：缺少以下必需的列: {missing_columns}\")\n",
    "        return df  # 如果缺少必要的列，则不执行计算"
   ]
  },
  {
   "cell_type": "code",
   "execution_count": 103,
   "id": "9374604d",
   "metadata": {},
   "outputs": [
    {
     "ename": "KeyError",
     "evalue": "'所有者权益合计'",
     "output_type": "error",
     "traceback": [
      "\u001b[1;31m---------------------------------------------------------------------------\u001b[0m",
      "\u001b[1;31mKeyError\u001b[0m                                  Traceback (most recent call last)",
      "File \u001b[1;32mE:\\Anaconda\\Anaconda\\lib\\site-packages\\pandas\\core\\indexes\\base.py:3802\u001b[0m, in \u001b[0;36mIndex.get_loc\u001b[1;34m(self, key, method, tolerance)\u001b[0m\n\u001b[0;32m   3801\u001b[0m \u001b[38;5;28;01mtry\u001b[39;00m:\n\u001b[1;32m-> 3802\u001b[0m     \u001b[38;5;28;01mreturn\u001b[39;00m \u001b[38;5;28;43mself\u001b[39;49m\u001b[38;5;241;43m.\u001b[39;49m\u001b[43m_engine\u001b[49m\u001b[38;5;241;43m.\u001b[39;49m\u001b[43mget_loc\u001b[49m\u001b[43m(\u001b[49m\u001b[43mcasted_key\u001b[49m\u001b[43m)\u001b[49m\n\u001b[0;32m   3803\u001b[0m \u001b[38;5;28;01mexcept\u001b[39;00m \u001b[38;5;167;01mKeyError\u001b[39;00m \u001b[38;5;28;01mas\u001b[39;00m err:\n",
      "File \u001b[1;32mE:\\Anaconda\\Anaconda\\lib\\site-packages\\pandas\\_libs\\index.pyx:138\u001b[0m, in \u001b[0;36mpandas._libs.index.IndexEngine.get_loc\u001b[1;34m()\u001b[0m\n",
      "File \u001b[1;32mE:\\Anaconda\\Anaconda\\lib\\site-packages\\pandas\\_libs\\index.pyx:165\u001b[0m, in \u001b[0;36mpandas._libs.index.IndexEngine.get_loc\u001b[1;34m()\u001b[0m\n",
      "File \u001b[1;32mpandas\\_libs\\hashtable_class_helper.pxi:5745\u001b[0m, in \u001b[0;36mpandas._libs.hashtable.PyObjectHashTable.get_item\u001b[1;34m()\u001b[0m\n",
      "File \u001b[1;32mpandas\\_libs\\hashtable_class_helper.pxi:5753\u001b[0m, in \u001b[0;36mpandas._libs.hashtable.PyObjectHashTable.get_item\u001b[1;34m()\u001b[0m\n",
      "\u001b[1;31mKeyError\u001b[0m: '所有者权益合计'",
      "\nThe above exception was the direct cause of the following exception:\n",
      "\u001b[1;31mKeyError\u001b[0m                                  Traceback (most recent call last)",
      "Cell \u001b[1;32mIn[103], line 2\u001b[0m\n\u001b[0;32m      1\u001b[0m \u001b[38;5;66;03m# 计算并添加新列\u001b[39;00m\n\u001b[1;32m----> 2\u001b[0m df[\u001b[38;5;124m'\u001b[39m\u001b[38;5;124m股东权益/负债合计\u001b[39m\u001b[38;5;124m'\u001b[39m] \u001b[38;5;241m=\u001b[39m \u001b[43mdf\u001b[49m\u001b[43m[\u001b[49m\u001b[38;5;124;43m'\u001b[39;49m\u001b[38;5;124;43m所有者权益合计\u001b[39;49m\u001b[38;5;124;43m'\u001b[39;49m\u001b[43m]\u001b[49m \u001b[38;5;241m/\u001b[39m df[\u001b[38;5;124m'\u001b[39m\u001b[38;5;124m负债合计\u001b[39m\u001b[38;5;124m'\u001b[39m]\u001b[38;5;241m.\u001b[39mreplace(\u001b[38;5;241m0\u001b[39m, pd\u001b[38;5;241m.\u001b[39mNA)\n\u001b[0;32m      3\u001b[0m df[\u001b[38;5;124m'\u001b[39m\u001b[38;5;124m经营净现金流量/负债合计\u001b[39m\u001b[38;5;124m'\u001b[39m] \u001b[38;5;241m=\u001b[39m df[\u001b[38;5;124m'\u001b[39m\u001b[38;5;124m经营活动产生的现金流量净额\u001b[39m\u001b[38;5;124m'\u001b[39m] \u001b[38;5;241m/\u001b[39m df[\u001b[38;5;124m'\u001b[39m\u001b[38;5;124m负债合计\u001b[39m\u001b[38;5;124m'\u001b[39m]\u001b[38;5;241m.\u001b[39mreplace(\u001b[38;5;241m0\u001b[39m, pd\u001b[38;5;241m.\u001b[39mNA)\n\u001b[0;32m      4\u001b[0m df[\u001b[38;5;124m'\u001b[39m\u001b[38;5;124m货币资金/短期债务\u001b[39m\u001b[38;5;124m'\u001b[39m] \u001b[38;5;241m=\u001b[39m df[\u001b[38;5;124m'\u001b[39m\u001b[38;5;124m货币资金\u001b[39m\u001b[38;5;124m'\u001b[39m] \u001b[38;5;241m/\u001b[39m df[\u001b[38;5;124m'\u001b[39m\u001b[38;5;124m短期借款\u001b[39m\u001b[38;5;124m'\u001b[39m]\u001b[38;5;241m.\u001b[39mreplace(\u001b[38;5;241m0\u001b[39m, pd\u001b[38;5;241m.\u001b[39mNA)\n",
      "File \u001b[1;32mE:\\Anaconda\\Anaconda\\lib\\site-packages\\pandas\\core\\frame.py:3807\u001b[0m, in \u001b[0;36mDataFrame.__getitem__\u001b[1;34m(self, key)\u001b[0m\n\u001b[0;32m   3805\u001b[0m \u001b[38;5;28;01mif\u001b[39;00m \u001b[38;5;28mself\u001b[39m\u001b[38;5;241m.\u001b[39mcolumns\u001b[38;5;241m.\u001b[39mnlevels \u001b[38;5;241m>\u001b[39m \u001b[38;5;241m1\u001b[39m:\n\u001b[0;32m   3806\u001b[0m     \u001b[38;5;28;01mreturn\u001b[39;00m \u001b[38;5;28mself\u001b[39m\u001b[38;5;241m.\u001b[39m_getitem_multilevel(key)\n\u001b[1;32m-> 3807\u001b[0m indexer \u001b[38;5;241m=\u001b[39m \u001b[38;5;28;43mself\u001b[39;49m\u001b[38;5;241;43m.\u001b[39;49m\u001b[43mcolumns\u001b[49m\u001b[38;5;241;43m.\u001b[39;49m\u001b[43mget_loc\u001b[49m\u001b[43m(\u001b[49m\u001b[43mkey\u001b[49m\u001b[43m)\u001b[49m\n\u001b[0;32m   3808\u001b[0m \u001b[38;5;28;01mif\u001b[39;00m is_integer(indexer):\n\u001b[0;32m   3809\u001b[0m     indexer \u001b[38;5;241m=\u001b[39m [indexer]\n",
      "File \u001b[1;32mE:\\Anaconda\\Anaconda\\lib\\site-packages\\pandas\\core\\indexes\\base.py:3804\u001b[0m, in \u001b[0;36mIndex.get_loc\u001b[1;34m(self, key, method, tolerance)\u001b[0m\n\u001b[0;32m   3802\u001b[0m     \u001b[38;5;28;01mreturn\u001b[39;00m \u001b[38;5;28mself\u001b[39m\u001b[38;5;241m.\u001b[39m_engine\u001b[38;5;241m.\u001b[39mget_loc(casted_key)\n\u001b[0;32m   3803\u001b[0m \u001b[38;5;28;01mexcept\u001b[39;00m \u001b[38;5;167;01mKeyError\u001b[39;00m \u001b[38;5;28;01mas\u001b[39;00m err:\n\u001b[1;32m-> 3804\u001b[0m     \u001b[38;5;28;01mraise\u001b[39;00m \u001b[38;5;167;01mKeyError\u001b[39;00m(key) \u001b[38;5;28;01mfrom\u001b[39;00m \u001b[38;5;21;01merr\u001b[39;00m\n\u001b[0;32m   3805\u001b[0m \u001b[38;5;28;01mexcept\u001b[39;00m \u001b[38;5;167;01mTypeError\u001b[39;00m:\n\u001b[0;32m   3806\u001b[0m     \u001b[38;5;66;03m# If we have a listlike key, _check_indexing_error will raise\u001b[39;00m\n\u001b[0;32m   3807\u001b[0m     \u001b[38;5;66;03m#  InvalidIndexError. Otherwise we fall through and re-raise\u001b[39;00m\n\u001b[0;32m   3808\u001b[0m     \u001b[38;5;66;03m#  the TypeError.\u001b[39;00m\n\u001b[0;32m   3809\u001b[0m     \u001b[38;5;28mself\u001b[39m\u001b[38;5;241m.\u001b[39m_check_indexing_error(key)\n",
      "\u001b[1;31mKeyError\u001b[0m: '所有者权益合计'"
     ]
    }
   ],
   "source": [
    "    # 计算并添加新列\n",
    "    df['股东权益/负债合计'] = df['所有者权益合计'] / df['负债合计'].replace(0, pd.NA)\n",
    "    df['经营净现金流量/负债合计'] = df['经营活动产生的现金流量净额'] / df['负债合计'].replace(0, pd.NA)\n",
    "    df['货币资金/短期债务'] = df['货币资金'] / df['短期借款'].replace(0, pd.NA)\n",
    "    df['带息债务'] = df['短期借款'] + df['长期借款']\n",
    "    df['息税折旧前利润/带息债务'] = df['息税折旧摊销前收入（EBITDA）TTM'] / df['带息债务'].replace(0, pd.NA)\n",
    "    df['息税折旧前利润/利息费用'] = df['息税折旧摊销前收入（EBITDA）TTM'] / df['其中：利息费用(财务费用)'].replace(0, pd.NA)\n",
    "    df['自由现金净流量'] = df['经营活动产生的现金流量净额'] - df['购建固定资产、无形资产和其他长期资产支付的现金']\n",
    "    df['带息债务率'] = df['带息债务'] / df['资产总计'].replace(0, pd.NA)\n",
    "    \n",
    "    # 处理可能出现的除以零的情况\n",
    "    df = df.replace({pd.NA: np.nan, np.inf: np.nan, -np.inf: np.nan})\n",
    "\n",
    "    return df\n",
    "\n",
    "# 应用函数\n",
    "    merged_df = add_financial_indicators(merged_df)\n",
    "    print(merged_df.head())\n"
   ]
  },
  {
   "cell_type": "code",
   "execution_count": 104,
   "id": "31e3b322",
   "metadata": {},
   "outputs": [
    {
     "name": "stdout",
     "output_type": "stream",
     "text": [
      "Data with new financial indicators has been saved to C:\\Users\\32256/Desktop/data\\merged_data_with_indicators.csv\n"
     ]
    }
   ],
   "source": [
    "# 保存修改后的数据框到新的 CSV 文件\n",
    "output_file_path = os.path.join(os.path.expanduser(\"~/Desktop/data\"), \"merged_data_with_indicators.csv\")\n",
    "merged_df.to_csv(output_file_path, index=False)\n",
    "\n",
    "print(f\"Data with new financial indicators has been saved to {output_file_path}\")"
   ]
  },
  {
   "cell_type": "code",
   "execution_count": null,
   "id": "d82f3b2b",
   "metadata": {},
   "outputs": [],
   "source": []
  }
 ],
 "metadata": {
  "kernelspec": {
   "display_name": "Python 3 (ipykernel)",
   "language": "python",
   "name": "python3"
  },
  "language_info": {
   "codemirror_mode": {
    "name": "ipython",
    "version": 3
   },
   "file_extension": ".py",
   "mimetype": "text/x-python",
   "name": "python",
   "nbconvert_exporter": "python",
   "pygments_lexer": "ipython3",
   "version": "3.10.9"
  }
 },
 "nbformat": 4,
 "nbformat_minor": 5
}

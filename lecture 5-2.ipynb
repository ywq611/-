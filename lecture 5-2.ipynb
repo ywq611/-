{
 "cells": [
  {
   "cell_type": "markdown",
   "id": "997c03db",
   "metadata": {},
   "source": [
    "# Lecture 5-2: Numy, Pandas and Matplotlib\n",
    "\n",
    "* [1 NumPy](#1)\n",
    "* [2 Pandas ](#2)\n",
    "    * [2.1 Pandas Series](#2.1)\n",
    "    * [2.2 Pandas DataFrames](#2.2)\n",
    "    * [2.3 Indexing and Slicing](#2.3)\n",
    "    * [2.4 Muanipulation](#2.4)\n",
    "    * [2.5 Data Cleaning](#2.5)\n",
    "* [3 Matplotlib](#3)\n"
   ]
  },
  {
   "cell_type": "markdown",
   "id": "a0b4855a",
   "metadata": {},
   "source": [
    "## 1 NumPy <a class=\"anchor\" id=\"1\"></a>\n",
    "\n",
    "Check out Lecture 5-1!"
   ]
  },
  {
   "cell_type": "markdown",
   "id": "0c14c41e",
   "metadata": {},
   "source": [
    "## 2 Pandas <a class=\"anchor\" id=\"2\"></a>\n",
    "\n",
    "https://pandas.pydata.org/docs/index.html"
   ]
  },
  {
   "cell_type": "code",
   "execution_count": null,
   "id": "7ba95236",
   "metadata": {},
   "outputs": [],
   "source": [
    "import pandas\n",
    "pandas.__version__"
   ]
  },
  {
   "cell_type": "markdown",
   "id": "bd52162f",
   "metadata": {},
   "source": [
    "### 2.1 Pandas Series <a class=\"anchor\" id=\"2.1\"></a>\n",
    "\n",
    "A Pandas Series is like a column in a table.\n",
    "\n",
    "It is a **one-dimensional** array holding data of **any type**."
   ]
  },
  {
   "cell_type": "code",
   "execution_count": null,
   "id": "6f76e96a",
   "metadata": {},
   "outputs": [],
   "source": [
    "import numpy as np\n",
    "import pandas as pd"
   ]
  },
  {
   "cell_type": "code",
   "execution_count": null,
   "id": "18323695",
   "metadata": {},
   "outputs": [],
   "source": [
    "a = [1, 7, 2]\n",
    "ser = pd.Series(a)\n",
    "print(ser)\n",
    "print(type(ser))"
   ]
  },
  {
   "cell_type": "code",
   "execution_count": null,
   "id": "d38b88c0",
   "metadata": {},
   "outputs": [],
   "source": [
    "print(ser.index, type(ser.index))\n",
    "print(ser.values,type(ser.values))"
   ]
  },
  {
   "cell_type": "code",
   "execution_count": null,
   "id": "2c31e9a1",
   "metadata": {},
   "outputs": [],
   "source": [
    "print(ser.index)\n",
    "ser.index = ['a','b','b']\n",
    "print(ser)\n",
    "print(ser.index)"
   ]
  },
  {
   "cell_type": "code",
   "execution_count": null,
   "id": "119f1d55",
   "metadata": {},
   "outputs": [],
   "source": [
    "print(ser[2])\n",
    "print(ser['b'])"
   ]
  },
  {
   "cell_type": "code",
   "execution_count": null,
   "id": "b7e074e0",
   "metadata": {},
   "outputs": [],
   "source": [
    "print(ser.ndim, ser.shape, ser.size)\n",
    "print(ser.dtype)"
   ]
  },
  {
   "cell_type": "code",
   "execution_count": null,
   "id": "ad96b267",
   "metadata": {
    "scrolled": true
   },
   "outputs": [],
   "source": [
    "a = [1, 'seven', 2]\n",
    "ser = pd.Series(a)\n",
    "print(ser)\n",
    "# compare with numpy.ndarray\n",
    "print()\n",
    "b = np.array(a)\n",
    "print(b)\n",
    "print(b.dtype) # U21: 21-character unicode string\n",
    "# a special case for class str\n",
    "print()\n",
    "c = pd.Series(['one','two','three'])\n",
    "print(c)"
   ]
  },
  {
   "cell_type": "code",
   "execution_count": null,
   "id": "0379189e",
   "metadata": {},
   "outputs": [],
   "source": [
    "print(ser.name)"
   ]
  },
  {
   "cell_type": "code",
   "execution_count": null,
   "id": "80fa0431",
   "metadata": {},
   "outputs": [],
   "source": [
    "ser.name = 'my_series'"
   ]
  },
  {
   "cell_type": "code",
   "execution_count": null,
   "id": "c7ecd082",
   "metadata": {},
   "outputs": [],
   "source": [
    "print(ser)"
   ]
  },
  {
   "cell_type": "markdown",
   "id": "3548d811",
   "metadata": {},
   "source": [
    "When creating a Series, in addtion to using\n",
    "- `list`\n",
    "\n",
    "we can also use\n",
    "\n",
    "- `numpy.ndarray`\n",
    "- `dictionary`\n",
    "\n",
    "as the input data."
   ]
  },
  {
   "cell_type": "code",
   "execution_count": null,
   "id": "7b8511cf",
   "metadata": {},
   "outputs": [],
   "source": [
    "arr = np.linspace(0,10,4)\n",
    "ser = pd.Series(arr, index = ['alice','ben','cindy','david'], name = 'my_ser')\n",
    "print('Array:')\n",
    "print(arr)\n",
    "print('Series:')\n",
    "print(ser)"
   ]
  },
  {
   "cell_type": "code",
   "execution_count": null,
   "id": "9afbdd33",
   "metadata": {},
   "outputs": [],
   "source": [
    "calories = {\"day1\": 420, \"day2\": 380, \"day3\": 390}\n",
    "ser = pd.Series(calories)\n",
    "print(ser)"
   ]
  },
  {
   "cell_type": "code",
   "execution_count": null,
   "id": "9dc916cf",
   "metadata": {},
   "outputs": [],
   "source": [
    "calories = {\"day1\": 420, \"day2\": 380, \"day3\": 390}\n",
    "ser_last2days = pd.Series(calories, index = [\"day2\",\"day3\"])\n",
    "print(ser_last2days)"
   ]
  },
  {
   "cell_type": "code",
   "execution_count": null,
   "id": "96ee709b",
   "metadata": {},
   "outputs": [],
   "source": [
    "calories = {\"day1\": 420, \"day2\": 380, \"day3\": 390}\n",
    "ser_new = pd.Series(calories, index = [\"day2\",\"day3\",\"day4\"])\n",
    "print(ser_new)"
   ]
  },
  {
   "cell_type": "code",
   "execution_count": null,
   "id": "d5fe7742",
   "metadata": {},
   "outputs": [],
   "source": [
    "x = ser_new['day4']\n",
    "print(x, type(x))"
   ]
  },
  {
   "cell_type": "code",
   "execution_count": null,
   "id": "d6deef5b",
   "metadata": {},
   "outputs": [],
   "source": [
    "y = ser_new.isnull()\n",
    "# equivalently\n",
    "y = pd.isnull(ser_new)\n",
    "print(y)"
   ]
  },
  {
   "cell_type": "code",
   "execution_count": null,
   "id": "dfffb63f",
   "metadata": {},
   "outputs": [],
   "source": [
    "y = ser_new.notnull()\n",
    "# equivalently\n",
    "y = pd.notnull(ser_new)\n",
    "print(y)"
   ]
  },
  {
   "cell_type": "code",
   "execution_count": null,
   "id": "12304fa4",
   "metadata": {},
   "outputs": [],
   "source": [
    "help(pd.Series)"
   ]
  },
  {
   "cell_type": "markdown",
   "id": "d944994f",
   "metadata": {},
   "source": [
    "#### Series vs DataFrame\n",
    "\n",
    "Data sets in Pandas are usually **multi-dimensional tables**, called DataFrames.\n",
    "\n",
    "Series is like a column, a DataFrame is the whole table. Thus any columns of a DataFrame is a Series. We can also create a DataFrame from Series.\n",
    "\n",
    "### 2.2 Pandas DataFrame <a class=\"anchor\" id=\"2.2\"></a>"
   ]
  },
  {
   "cell_type": "code",
   "execution_count": null,
   "id": "f3455292",
   "metadata": {},
   "outputs": [],
   "source": [
    "df = pd.DataFrame([[1,2,3],[4,5,6]])\n",
    "print(df)\n",
    "print(type(df))"
   ]
  },
  {
   "cell_type": "code",
   "execution_count": null,
   "id": "a091bc47",
   "metadata": {},
   "outputs": [],
   "source": [
    "print(df.columns,type(df.columns))\n",
    "print(df.index,type(df.index))\n",
    "print(df.values,type(df.values))\n",
    "print(df.ndim, df.shape, df.size)"
   ]
  },
  {
   "cell_type": "code",
   "execution_count": null,
   "id": "6d67a16f",
   "metadata": {},
   "outputs": [],
   "source": [
    "df.columns =['col_1','col_2','col_3']\n",
    "df.index =['a','a']\n",
    "print(df)\n",
    "print(df.columns,type(df.columns))\n",
    "print(df.index,type(df.index))"
   ]
  },
  {
   "cell_type": "markdown",
   "id": "f3f8ec93",
   "metadata": {},
   "source": [
    "#### `dtypes` of DataFrame"
   ]
  },
  {
   "cell_type": "code",
   "execution_count": null,
   "id": "151607a1",
   "metadata": {},
   "outputs": [],
   "source": [
    "y = df.dtypes\n",
    "print(y)\n",
    "print()\n",
    "print(type(y))\n",
    "print(y.index==df.columns)"
   ]
  },
  {
   "cell_type": "code",
   "execution_count": null,
   "id": "bf358c0f",
   "metadata": {},
   "outputs": [],
   "source": [
    "df = pd.DataFrame([['one',1,1.0],['two',2,2.0]])\n",
    "print(df)\n",
    "print()\n",
    "y = df.dtypes\n",
    "print(y)\n",
    "# Pandas uses the object dtype for storing strings.\n",
    "# A short explanation is that the length of the string is not fixed."
   ]
  },
  {
   "cell_type": "code",
   "execution_count": null,
   "id": "7b839365",
   "metadata": {},
   "outputs": [],
   "source": [
    "help(pd.DataFrame)"
   ]
  },
  {
   "cell_type": "markdown",
   "id": "bee57b51",
   "metadata": {},
   "source": [
    "#### Create a DataFrame from\n",
    "- 2-dim array \n",
    "- dictionary\n",
    "- Series or other DataFrame\n",
    "- loading csv files or xls/xlsx files"
   ]
  },
  {
   "cell_type": "code",
   "execution_count": null,
   "id": "99b08c92",
   "metadata": {},
   "outputs": [],
   "source": [
    "a = np.arange(12).reshape(4,3)\n",
    "print(a)\n",
    "print()\n",
    "df = pd.DataFrame(a, columns = ['A','B','C'], index = np.arange(1,5))\n",
    "print(df)\n",
    "print()\n",
    "display(df)"
   ]
  },
  {
   "cell_type": "code",
   "execution_count": null,
   "id": "654deac5",
   "metadata": {},
   "outputs": [],
   "source": [
    "df = pd.DataFrame({'float': [2.0,3],\n",
    "                   'int': [2,1],\n",
    "                   'string': ['apple','banana']})\n",
    "print(df)"
   ]
  },
  {
   "cell_type": "code",
   "execution_count": null,
   "id": "a9b51a03",
   "metadata": {},
   "outputs": [],
   "source": [
    "dict1 = {'a':[1,2,3,4],'b':[5,6,7,8]}\n",
    "df = pd.DataFrame(dict1, index = ['r1','r2','r3','r4'],columns=['a','c'])\n",
    "print(df)"
   ]
  },
  {
   "cell_type": "code",
   "execution_count": null,
   "id": "33977c8b",
   "metadata": {},
   "outputs": [],
   "source": [
    "dict2 = {'a':{'r1':1,'r2':2,'r3':3,'r4':4},'b':{'r1':5,'r2':6,'r3':7,'r4':8}}\n",
    "df = pd.DataFrame(dict2)\n",
    "print(df)"
   ]
  },
  {
   "cell_type": "code",
   "execution_count": null,
   "id": "f1042098",
   "metadata": {},
   "outputs": [],
   "source": [
    "dict2 = {'a':{'r1':1,'r2':2,'r3':3,'r4':4},'b':{'R1':5,'R2':6,'R3':7}}\n",
    "df = pd.DataFrame(dict2)\n",
    "print(df)"
   ]
  },
  {
   "cell_type": "code",
   "execution_count": null,
   "id": "3821ec5a",
   "metadata": {},
   "outputs": [],
   "source": [
    "ser1 = pd.Series([1,2,3,4])\n",
    "ser2 = pd.Series([1,2,3,5])\n",
    "ser3 = pd.Series([1,2,3,6])\n",
    "df = pd.DataFrame([ser1,ser2,ser3])\n",
    "print(df)"
   ]
  },
  {
   "cell_type": "code",
   "execution_count": null,
   "id": "05db3f6d",
   "metadata": {},
   "outputs": [],
   "source": [
    "ser1 = pd.Series([1,2,3,4])\n",
    "ser2 = pd.Series([1,2,3,5])\n",
    "ser3 = pd.Series([1,2,3,6])\n",
    "df = pd.DataFrame({'c1':ser1, 'c2':ser2, 'c3':ser3})\n",
    "print(df)"
   ]
  },
  {
   "cell_type": "code",
   "execution_count": null,
   "id": "b487f851",
   "metadata": {},
   "outputs": [],
   "source": [
    "ser1 = pd.Series([1,2,3,4])\n",
    "ser2 = pd.Series([1,2,3,5])\n",
    "ser3 = pd.Series([1,2,3,6])\n",
    "df = pd.DataFrame({'c1':ser1, 'c2':ser2, 'c3':ser3}, index = [1,3,5,7])\n",
    "print(df)"
   ]
  },
  {
   "cell_type": "code",
   "execution_count": null,
   "id": "060853b3",
   "metadata": {},
   "outputs": [],
   "source": [
    "df_sub = df[['c1','c2']]\n",
    "print(df_sub)"
   ]
  },
  {
   "cell_type": "code",
   "execution_count": null,
   "id": "4be23945",
   "metadata": {},
   "outputs": [],
   "source": [
    "sub1 = df[['c3']]\n",
    "sub2 = df['c3']\n",
    "print(type(sub1))\n",
    "print(sub1)\n",
    "print()\n",
    "print(type(sub2))\n",
    "print(sub2)"
   ]
  },
  {
   "cell_type": "code",
   "execution_count": null,
   "id": "ff13cf89-fd5e-4402-ade2-d781d6ea71ca",
   "metadata": {},
   "outputs": [],
   "source": [
    "# read a csv file\n",
    "Bitcoin = pd.read_csv(\"data/Bitcoin.csv\")"
   ]
  },
  {
   "cell_type": "code",
   "execution_count": null,
   "id": "051e1409",
   "metadata": {},
   "outputs": [],
   "source": [
    "print(type(Bitcoin))"
   ]
  },
  {
   "cell_type": "code",
   "execution_count": null,
   "id": "b7bcf300",
   "metadata": {},
   "outputs": [],
   "source": [
    "display(Bitcoin)"
   ]
  },
  {
   "cell_type": "code",
   "execution_count": null,
   "id": "6bc15074",
   "metadata": {},
   "outputs": [],
   "source": [
    "# using os.getcwd(): get current working directory\n",
    "import os\n",
    "folder = os.getcwd()\n",
    "print(folder)"
   ]
  },
  {
   "cell_type": "code",
   "execution_count": null,
   "id": "3b49720a-50a2-4c3b-8cd0-dcb4df5bd57f",
   "metadata": {},
   "outputs": [],
   "source": [
    "Bitcoin = pd.read_csv(\"data/Bitcoin.csv\")\n",
    "# equivalently\n",
    "Bitcoin = pd.read_csv(os.getcwd()+\"/data/Bitcoin.csv\")\n",
    "display(Bitcoin)"
   ]
  },
  {
   "cell_type": "code",
   "execution_count": null,
   "id": "509cbc87-896a-4352-9d57-1b2a9fd598df",
   "metadata": {},
   "outputs": [],
   "source": [
    "Bitcoin_new = Bitcoin[['Date','Price']]\n",
    "display(Bitcoin_new)"
   ]
  },
  {
   "cell_type": "code",
   "execution_count": null,
   "id": "409d6d64",
   "metadata": {},
   "outputs": [],
   "source": [
    "Bitcoin_new.to_csv('Bitcoin_new.csv')"
   ]
  },
  {
   "cell_type": "code",
   "execution_count": null,
   "id": "4d5b7c7a",
   "metadata": {},
   "outputs": [],
   "source": [
    "Currency = pd.read_excel(os.getcwd()+\"/data/RMBDailyCurrency.xlsx\",header = None)\n",
    "display(Currency)"
   ]
  },
  {
   "cell_type": "code",
   "execution_count": null,
   "id": "9e7ad482",
   "metadata": {},
   "outputs": [],
   "source": [
    "Currency.columns=['date','currency']\n",
    "Currency.to_excel('currency_copy.xlsx')"
   ]
  },
  {
   "cell_type": "markdown",
   "id": "23382aab",
   "metadata": {},
   "source": [
    "### 2.3 Indexing and Slicing <a class=\"anchor\" id=\"2.3\"></a>"
   ]
  },
  {
   "cell_type": "code",
   "execution_count": null,
   "id": "1848d484",
   "metadata": {},
   "outputs": [],
   "source": [
    "ser = pd.Series([120.4,120.2,121,119.6,119.3], index = range(1,6), name ='weight')\n",
    "print(ser)"
   ]
  },
  {
   "cell_type": "code",
   "execution_count": null,
   "id": "4fa5bcee",
   "metadata": {},
   "outputs": [],
   "source": [
    "ser[3]"
   ]
  },
  {
   "cell_type": "code",
   "execution_count": null,
   "id": "7e7cb5b0",
   "metadata": {},
   "outputs": [],
   "source": [
    "x = ser[[1,3,5]]\n",
    "print(x)\n",
    "print(type(x))"
   ]
  },
  {
   "cell_type": "code",
   "execution_count": null,
   "id": "ecad3c33",
   "metadata": {},
   "outputs": [],
   "source": [
    "x = ser[::2] # equivalent to x = ser[0:5:2]\n",
    "print(x)\n",
    "print(type(x))"
   ]
  },
  {
   "cell_type": "code",
   "execution_count": null,
   "id": "a2a68525",
   "metadata": {},
   "outputs": [],
   "source": [
    "ser = pd.Series([120.4,120.2,121,119.6,119.3],index = ['day%d'%i for i in range(1,6)], name ='weight')\n",
    "print(ser)"
   ]
  },
  {
   "cell_type": "markdown",
   "id": "397e4db1",
   "metadata": {},
   "source": [
    "#### Quiz: find out the weights since day3"
   ]
  },
  {
   "cell_type": "code",
   "execution_count": null,
   "id": "800bd008",
   "metadata": {},
   "outputs": [],
   "source": [
    "x = ser['day3':]\n",
    "print(x)\n",
    "print(type(x))"
   ]
  },
  {
   "cell_type": "code",
   "execution_count": null,
   "id": "393ae206",
   "metadata": {},
   "outputs": [],
   "source": [
    "df = pd.DataFrame({\"a\":[1,2,3,4],\"b\":[5,6,7,8], \"c\":[9,10,11,12],\"d\":[13,14,15,16]})\n",
    "print(df)\n",
    "print(df.columns)\n",
    "print(df.index)"
   ]
  },
  {
   "cell_type": "code",
   "execution_count": null,
   "id": "77b570dc",
   "metadata": {},
   "outputs": [],
   "source": [
    "df.index = ['one','two','three','four']\n",
    "display(df)"
   ]
  },
  {
   "cell_type": "code",
   "execution_count": null,
   "id": "9f5e3b31",
   "metadata": {},
   "outputs": [],
   "source": [
    "x = df['b']\n",
    "print(type(x))\n",
    "print(x)\n",
    "x = df[['b','d']]\n",
    "print(type(x))\n",
    "print(x)"
   ]
  },
  {
   "cell_type": "code",
   "execution_count": null,
   "id": "b7f09bf5",
   "metadata": {},
   "outputs": [],
   "source": [
    "x = df[0] \n",
    "print(type(x))\n",
    "print(x)"
   ]
  },
  {
   "cell_type": "code",
   "execution_count": null,
   "id": "283429a9",
   "metadata": {},
   "outputs": [],
   "source": [
    "x = df[0:1] \n",
    "print(type(x))\n",
    "print(x)"
   ]
  },
  {
   "cell_type": "code",
   "execution_count": null,
   "id": "0f6c577c",
   "metadata": {},
   "outputs": [],
   "source": [
    "x = df['two'] \n",
    "print(type(x))\n",
    "print(x)"
   ]
  },
  {
   "cell_type": "code",
   "execution_count": null,
   "id": "fc66837e",
   "metadata": {},
   "outputs": [],
   "source": [
    "x = df['two':] \n",
    "print(type(x))\n",
    "print(x)"
   ]
  },
  {
   "cell_type": "code",
   "execution_count": null,
   "id": "9451c308",
   "metadata": {},
   "outputs": [],
   "source": [
    "df = pd.DataFrame(df.values)\n",
    "print(df)"
   ]
  },
  {
   "cell_type": "code",
   "execution_count": null,
   "id": "f08a3f7d",
   "metadata": {},
   "outputs": [],
   "source": [
    "print(df[[2,1]])\n",
    "print()\n",
    "print(df[np.arange(0,3,2)])"
   ]
  },
  {
   "cell_type": "code",
   "execution_count": null,
   "id": "2e22442f",
   "metadata": {},
   "outputs": [],
   "source": [
    "print(df[0:3:2])"
   ]
  },
  {
   "cell_type": "markdown",
   "id": "365700e9",
   "metadata": {},
   "source": [
    "#### Quiz: how to find the first 2 rows of the first 3 columns"
   ]
  },
  {
   "cell_type": "code",
   "execution_count": null,
   "id": "1c05d874",
   "metadata": {},
   "outputs": [],
   "source": [
    "x = df[[0,1,2]][0:2]\n",
    "# or \n",
    "x = df[0:2][[0,1,2]]\n",
    "# or \n",
    "x = df[0:2][np.arange(3)]\n",
    "# or \n",
    "x = df[np.arange(3)][0:2]\n",
    "print(x)"
   ]
  },
  {
   "cell_type": "markdown",
   "id": "d2aafaf5",
   "metadata": {},
   "source": [
    "#### Use `loc` and `iloc`"
   ]
  },
  {
   "cell_type": "code",
   "execution_count": null,
   "id": "00fbfd90",
   "metadata": {},
   "outputs": [],
   "source": [
    "df = pd.DataFrame({\"a\":[1,2,3,4],\"b\":[5,6,7,8], \"c\":[9,10,11,12],\"d\":[13,14,15,16]})\n",
    "df.index = ['one','two','three','four']\n",
    "print(df)\n",
    "print(df.columns)\n",
    "print(df.index)"
   ]
  },
  {
   "cell_type": "code",
   "execution_count": null,
   "id": "64974435",
   "metadata": {},
   "outputs": [],
   "source": [
    "x = df.loc['two']\n",
    "print(type(x))\n",
    "print(x)"
   ]
  },
  {
   "cell_type": "code",
   "execution_count": null,
   "id": "31185c82",
   "metadata": {},
   "outputs": [],
   "source": [
    "x = df.iloc[1]\n",
    "print(type(x))\n",
    "print(x)"
   ]
  },
  {
   "cell_type": "code",
   "execution_count": null,
   "id": "719cdc05",
   "metadata": {},
   "outputs": [],
   "source": [
    "x = df.loc[:,'b']\n",
    "print(type(x))\n",
    "print(x)"
   ]
  },
  {
   "cell_type": "code",
   "execution_count": null,
   "id": "e2cb88fa",
   "metadata": {},
   "outputs": [],
   "source": [
    "x = df['b']\n",
    "print(type(x))\n",
    "print(x)"
   ]
  },
  {
   "cell_type": "code",
   "execution_count": null,
   "id": "a0175d3a",
   "metadata": {},
   "outputs": [],
   "source": [
    "x = df.iloc[:,1]\n",
    "print(type(x))\n",
    "print(x)"
   ]
  },
  {
   "cell_type": "code",
   "execution_count": null,
   "id": "1fa14d86",
   "metadata": {},
   "outputs": [],
   "source": [
    "x = df.loc['two':'four']\n",
    "print(type(x))\n",
    "print(x)\n",
    "print()\n",
    "x = df.loc[['two','three','four']]\n",
    "print(type(x))\n",
    "print(x)\n",
    "print()\n",
    "x = df.iloc[1:4]\n",
    "print(type(x))\n",
    "print(x)"
   ]
  },
  {
   "cell_type": "markdown",
   "id": "9024f91b",
   "metadata": {},
   "source": [
    "#### Quiz: use `iloc` and `loc` to obtain the DataFrame consists of the first 3 columns of the last 2 rows of the above `df`."
   ]
  },
  {
   "cell_type": "code",
   "execution_count": null,
   "id": "f855399e",
   "metadata": {},
   "outputs": [],
   "source": [
    "display(df)"
   ]
  },
  {
   "cell_type": "code",
   "execution_count": null,
   "id": "94be8f4c",
   "metadata": {},
   "outputs": [],
   "source": [
    "x = df[['a','b','c']][-2:]\n",
    "print(x)\n",
    "print()\n",
    "x = df[-2:][['a','b','c']]\n",
    "print(x)"
   ]
  },
  {
   "cell_type": "code",
   "execution_count": null,
   "id": "b1d826f1",
   "metadata": {},
   "outputs": [],
   "source": [
    "x = df.iloc[-2:,:3]\n",
    "print(x)\n",
    "print()\n",
    "x = df.iloc[[2,3],[0,1,2]]\n",
    "print(x)"
   ]
  },
  {
   "cell_type": "code",
   "execution_count": null,
   "id": "c77fb159",
   "metadata": {},
   "outputs": [],
   "source": [
    "x = df.loc['three':,'a':'c']\n",
    "print(x)\n",
    "print()\n",
    "x = df.loc[['three','four'],['a','b','c']]\n",
    "print(x)"
   ]
  },
  {
   "cell_type": "markdown",
   "id": "24b8edb8",
   "metadata": {},
   "source": [
    "### 2.4 Muanipulation <a class=\"anchor\" id=\"2.4\"></a>\n",
    "- Transpose `T`\n",
    "- delete `drop()`\n",
    "- merge `merge()`,`concat()`,`join()`\n",
    "- sort `sort_values()`\n",
    "- change data type `astype()`, `to_datetime()`,`to_numeric()`"
   ]
  },
  {
   "cell_type": "code",
   "execution_count": null,
   "id": "5108793c",
   "metadata": {},
   "outputs": [],
   "source": [
    "import pandas as pd, numpy as np"
   ]
  },
  {
   "cell_type": "code",
   "execution_count": null,
   "id": "065c4ce9",
   "metadata": {},
   "outputs": [],
   "source": [
    "df=pd.DataFrame({\"key\":[\"a\",\"b\",\"c\",\"d\",\"e\"], \"data\":np.arange(5)})\n",
    "display(df)"
   ]
  },
  {
   "cell_type": "code",
   "execution_count": null,
   "id": "d11ac8ea",
   "metadata": {},
   "outputs": [],
   "source": [
    "df_new = df.T\n",
    "display(df)\n",
    "display(df_new)"
   ]
  },
  {
   "cell_type": "code",
   "execution_count": null,
   "id": "1183c22e",
   "metadata": {},
   "outputs": [],
   "source": [
    "df = pd.DataFrame(np.arange(12).reshape(3, 4),columns=['A', 'B', 'C', 'D'])\n",
    "display(df)"
   ]
  },
  {
   "cell_type": "code",
   "execution_count": null,
   "id": "f6d6e248",
   "metadata": {},
   "outputs": [],
   "source": [
    "# Drop columns\n",
    "df_new = df.drop(columns = ['B', 'C'])\n",
    "display(df_new)\n",
    "display(df)"
   ]
  },
  {
   "cell_type": "code",
   "execution_count": null,
   "id": "facca65f",
   "metadata": {},
   "outputs": [],
   "source": [
    "# Drop columns method 2\n",
    "df_new = df.drop(['B', 'C'], axis=1) # by default axis = 0\n",
    "display(df_new)"
   ]
  },
  {
   "cell_type": "code",
   "execution_count": null,
   "id": "8e859182",
   "metadata": {},
   "outputs": [],
   "source": [
    "# Drop one row by index\n",
    "df_new = df.drop(1)\n",
    "display(df_new)"
   ]
  },
  {
   "cell_type": "code",
   "execution_count": null,
   "id": "76b4eb72",
   "metadata": {},
   "outputs": [],
   "source": [
    "# Drop rows by index\n",
    "df_new = df.drop([0,2])\n",
    "display(df_new)\n",
    "# equivalently\n",
    "df_new = df.drop(index = [0,2])\n",
    "display(df_new)"
   ]
  },
  {
   "cell_type": "code",
   "execution_count": null,
   "id": "27b9761c",
   "metadata": {},
   "outputs": [],
   "source": [
    "display(df)\n",
    "df_new = df.drop(columns =['B'], index = 1, inplace = True)\n",
    "print(df_new)\n",
    "display(df)"
   ]
  },
  {
   "cell_type": "code",
   "execution_count": null,
   "id": "4e7f18c0",
   "metadata": {},
   "outputs": [],
   "source": [
    "df['E']=[5,6]\n",
    "display(df)"
   ]
  },
  {
   "cell_type": "code",
   "execution_count": null,
   "id": "b1268741",
   "metadata": {},
   "outputs": [],
   "source": [
    "df.loc[3]=[0,0,0,0]\n",
    "display(df)"
   ]
  },
  {
   "cell_type": "code",
   "execution_count": null,
   "id": "b9aaac6d",
   "metadata": {},
   "outputs": [],
   "source": [
    "df.loc[5,'F'] = 100\n",
    "display(df)"
   ]
  },
  {
   "cell_type": "markdown",
   "id": "01e7cb3f",
   "metadata": {},
   "source": [
    "#### `concat()` in Pandas is similar to `concatenate()` in Numpy"
   ]
  },
  {
   "cell_type": "code",
   "execution_count": null,
   "id": "2ec27040",
   "metadata": {},
   "outputs": [],
   "source": [
    "df1=pd.DataFrame({\"key\":[\"a\",\"b\",\"c\",\"d\",\"e\"], \"data\":np.arange(5)})\n",
    "df2=pd.DataFrame({\"key\":[\"a\",\"b\",\"c\"], \"data\":np.arange(3)})\n",
    "display(df1)\n",
    "display(df2)"
   ]
  },
  {
   "cell_type": "code",
   "execution_count": null,
   "id": "2c6c7a99",
   "metadata": {},
   "outputs": [],
   "source": [
    "data=pd.concat([df1,df2]) \n",
    "display(data)"
   ]
  },
  {
   "cell_type": "code",
   "execution_count": null,
   "id": "31d1d529",
   "metadata": {},
   "outputs": [],
   "source": [
    "data1=pd.concat([df1,df2],axis=1)\n",
    "display(data1)"
   ]
  },
  {
   "cell_type": "code",
   "execution_count": null,
   "id": "af372277",
   "metadata": {},
   "outputs": [],
   "source": [
    "data1.loc[:,'key']"
   ]
  },
  {
   "cell_type": "code",
   "execution_count": null,
   "id": "59a5bf7a",
   "metadata": {},
   "outputs": [],
   "source": [
    "data1.iloc[:,0]"
   ]
  },
  {
   "cell_type": "markdown",
   "id": "a47b7273",
   "metadata": {},
   "source": [
    "\n",
    "`DataFrame.join()` is a convenient method for combining the columns of two potentially differently-indexed DataFrames into a single result DataFrame. The data alignment is **on the indexes (row labels)**.\n",
    "\n",
    "If there are **overlapping** columns, the join will want you to add a suffix to the overlapping column name from the left dataframe. "
   ]
  },
  {
   "cell_type": "code",
   "execution_count": null,
   "id": "526bb1b4",
   "metadata": {},
   "outputs": [],
   "source": [
    "df3=pd.DataFrame({\"key\":[\"a\",\"b\",\"c\",\"d\",\"e\"], \"data1\":np.arange(5)})\n",
    "df4=pd.DataFrame({\"key\":[\"a\",\"b\",\"c\",\"D\"],\"data2\":np.arange(4)}) \n",
    "display(df3, df4)"
   ]
  },
  {
   "cell_type": "code",
   "execution_count": null,
   "id": "c4739e58",
   "metadata": {
    "scrolled": true
   },
   "outputs": [],
   "source": [
    "df3.join(df4,how = 'outer', lsuffix='_1',rsuffix='_2')\n",
    "# try how = 'inner','right'\n",
    "# by default how = 'left'"
   ]
  },
  {
   "cell_type": "code",
   "execution_count": null,
   "id": "2a109f5f",
   "metadata": {},
   "outputs": [],
   "source": [
    "# Compare with concat with axis = 1\n",
    "pd.concat([df3,df4],axis=1)"
   ]
  },
  {
   "cell_type": "markdown",
   "id": "0891d9db",
   "metadata": {},
   "source": [
    "`join()` takes an optional `on` argument which may be a column or multiple column names, which specifies that the passed DataFrame is to be aligned on that column in the DataFrame. \n",
    "\n",
    "In that case, `join()` and `merge()` calls are completely equivalent."
   ]
  },
  {
   "cell_type": "code",
   "execution_count": null,
   "id": "6f8c730c",
   "metadata": {},
   "outputs": [],
   "source": [
    "left = pd.DataFrame({\"A\": [\"A0\", \"A1\", \"A2\", \"A3\"],\\\n",
    "                     \"B\": [\"B0\", \"B1\", \"B2\", \"B3\"],\\\n",
    "                     \"key\": [\"K0\", \"K1\", \"K2\", \"K3\"]})\n",
    "\n",
    "right = pd.DataFrame({\"C\": [\"C0\", \"C1\"], \"D\": [\"D0\", \"D1\"]}, index=[\"K0\", \"K1\"])\n",
    "display(left)\n",
    "display(right)"
   ]
  },
  {
   "cell_type": "code",
   "execution_count": null,
   "id": "a68f070c-0518-40b9-be1b-61a13d44dd7b",
   "metadata": {},
   "outputs": [],
   "source": [
    "result_1 = left.join(right, on=\"key\", how=\"outer\")\n",
    "result_2 = pd.merge(left, right, left_on=\"key\", right_index=True, how=\"outer\")\n",
    "display(result_1)\n",
    "display(result_2)"
   ]
  },
  {
   "cell_type": "markdown",
   "id": "f051d9e7",
   "metadata": {},
   "source": [
    "pandas provides a single function, `merge()`, as the entry point for all standard database join operations between `DataFrame` or `named Series` objects"
   ]
  },
  {
   "cell_type": "code",
   "execution_count": null,
   "id": "66593fcb",
   "metadata": {},
   "outputs": [],
   "source": [
    "display(df3, df4)"
   ]
  },
  {
   "cell_type": "markdown",
   "id": "d7f3bbf5",
   "metadata": {},
   "source": [
    "`merge()` is not that different from `join` when using `left_index = True,right_index = True`, that is to join on the index"
   ]
  },
  {
   "cell_type": "code",
   "execution_count": null,
   "id": "b7b2729d",
   "metadata": {},
   "outputs": [],
   "source": [
    "df3.merge(df4,left_index = True,right_index = True,suffixes =['_1','_2'], how = 'inner')"
   ]
  },
  {
   "cell_type": "code",
   "execution_count": null,
   "id": "6dd9608e",
   "metadata": {},
   "outputs": [],
   "source": [
    "df3.join(df4, lsuffix='_1',rsuffix='_2', how = 'inner')"
   ]
  },
  {
   "cell_type": "markdown",
   "id": "3bd746b2",
   "metadata": {},
   "source": [
    "`merge()` is often used when we don’t want to join on the index."
   ]
  },
  {
   "cell_type": "code",
   "execution_count": null,
   "id": "d6ea732f",
   "metadata": {},
   "outputs": [],
   "source": [
    "df3.merge(df4, on = 'key', how = 'right')"
   ]
  },
  {
   "cell_type": "code",
   "execution_count": null,
   "id": "efffe926",
   "metadata": {},
   "outputs": [],
   "source": [
    "df4['data2']=[0,1,2,3]\n",
    "df4['key']=['A','B','C',\"D\"]\n",
    "display(df3, df4)"
   ]
  },
  {
   "cell_type": "code",
   "execution_count": null,
   "id": "069a44de",
   "metadata": {},
   "outputs": [],
   "source": [
    "df3.merge(df4,left_on = 'data1', right_on = 'data2', suffixes =['_1','_2'],how='outer')"
   ]
  },
  {
   "cell_type": "markdown",
   "id": "e5220cc8",
   "metadata": {},
   "source": [
    "A detailed tutorial on `concat()`, `join()` and `merge()`:\n",
    "\n",
    "   - https://pandas.pydata.org/pandas-docs/stable/user_guide/merging.html"
   ]
  },
  {
   "cell_type": "markdown",
   "id": "8a385349",
   "metadata": {},
   "source": [
    "`sort_values()`:\n",
    "\n",
    "- `Series_obj.sort_values()`\n",
    "- `DataFrame_obj.sort_values([col_name])`"
   ]
  },
  {
   "cell_type": "code",
   "execution_count": null,
   "id": "aa750065",
   "metadata": {},
   "outputs": [],
   "source": [
    "df = pd.DataFrame({'Name':['jack','alice','zoe','henry'],'Height':[180,167,140,129]})\n",
    "display(df)"
   ]
  },
  {
   "cell_type": "code",
   "execution_count": null,
   "id": "9d69902d",
   "metadata": {},
   "outputs": [],
   "source": [
    "name = df['Name'].sort_values()"
   ]
  },
  {
   "cell_type": "code",
   "execution_count": null,
   "id": "9771eae2",
   "metadata": {},
   "outputs": [],
   "source": [
    "print(name)\n",
    "print(df['Name'])"
   ]
  },
  {
   "cell_type": "code",
   "execution_count": null,
   "id": "65a4a206",
   "metadata": {},
   "outputs": [],
   "source": [
    "df_sorted = df.sort_values(['Name'])\n",
    "display(df_sorted)"
   ]
  },
  {
   "cell_type": "code",
   "execution_count": null,
   "id": "24fd08b7",
   "metadata": {},
   "outputs": [],
   "source": [
    "df.sort_values(['Height'], inplace = True)\n",
    "display(df)"
   ]
  },
  {
   "cell_type": "code",
   "execution_count": null,
   "id": "1ef72329-1432-414a-9749-a123aea6911e",
   "metadata": {},
   "outputs": [],
   "source": [
    "df.sort_values(['Height'], ascending=False, inplace = True)\n",
    "display(df)"
   ]
  },
  {
   "cell_type": "code",
   "execution_count": null,
   "id": "2de8048e",
   "metadata": {},
   "outputs": [],
   "source": [
    "df = pd.DataFrame({'Name':['jack','alice','zoe','henry'],\\\n",
    "                   'Height':['180','167','140','129'],\\\n",
    "                   'Date':['2022-5-1','2021-12-1','2022-1-11','2020-9-10']})\n",
    "print(df.dtypes)\n",
    "display(df)"
   ]
  },
  {
   "cell_type": "code",
   "execution_count": null,
   "id": "d98d23c0",
   "metadata": {},
   "outputs": [],
   "source": [
    "df['Date'] = pd.to_datetime(df['Date'])\n",
    "df['Height']=pd.to_numeric(df['Height'])\n",
    "print(df.dtypes)\n",
    "display(df)"
   ]
  },
  {
   "cell_type": "code",
   "execution_count": null,
   "id": "e692fd5e-6c07-435f-883c-0fc64b72ac28",
   "metadata": {},
   "outputs": [],
   "source": [
    "print([x.year for x in df['Date']])\n",
    "print([x.month for x in df['Date']])\n",
    "print([x.day for x in df['Date']])\n",
    "print(df.loc[3,'Date'] > df.loc[1,'Date'])"
   ]
  },
  {
   "cell_type": "code",
   "execution_count": null,
   "id": "e0bba572",
   "metadata": {},
   "outputs": [],
   "source": [
    "df['Height']=df['Height'].astype('float64')\n",
    "print(df.dtypes)\n",
    "display(df)"
   ]
  },
  {
   "cell_type": "code",
   "execution_count": null,
   "id": "5a088883",
   "metadata": {},
   "outputs": [],
   "source": [
    "s5 = pd.Series(np.array([10,20,30,40,50,60]),index = [\"a\",\"b\",\"c\",\"d\",\"e\",\"f\"])\n",
    "s6 = pd.Series(np.array([1,1,1,1,1,1,]),index = [\"a\",\"b\",\"C\",\"d\",\"e\",\"F\"])\n",
    "print(s5)\n",
    "print(s6)"
   ]
  },
  {
   "cell_type": "code",
   "execution_count": null,
   "id": "728de860",
   "metadata": {},
   "outputs": [],
   "source": [
    "s5-s6"
   ]
  },
  {
   "cell_type": "markdown",
   "id": "9fd2cc46",
   "metadata": {},
   "source": [
    "### 2.5 Data Cleaning <a class=\"anchor\" id=\"2.5\"></a>"
   ]
  },
  {
   "cell_type": "markdown",
   "id": "0c09194f",
   "metadata": {},
   "source": [
    "#### Some tips in data cleaning\n",
    "- A quick look at the data\n",
    "- `Describe()`\n",
    "- Missing data\n",
    "- Visualization"
   ]
  },
  {
   "cell_type": "code",
   "execution_count": null,
   "id": "96c84a7d",
   "metadata": {},
   "outputs": [],
   "source": [
    "Bitcoin = pd.read_csv(\"data/Bitcoin.csv\")\n",
    "display(Bitcoin)"
   ]
  },
  {
   "cell_type": "code",
   "execution_count": null,
   "id": "47ef3bd7",
   "metadata": {},
   "outputs": [],
   "source": [
    "Bitcoin.head(3)"
   ]
  },
  {
   "cell_type": "code",
   "execution_count": null,
   "id": "4ad0d38a",
   "metadata": {},
   "outputs": [],
   "source": [
    "Bitcoin.tail()"
   ]
  },
  {
   "cell_type": "code",
   "execution_count": null,
   "id": "fa36a198",
   "metadata": {},
   "outputs": [],
   "source": [
    "Bitcoin.loc[[0,5,10,19]]"
   ]
  },
  {
   "cell_type": "code",
   "execution_count": null,
   "id": "c22f1284",
   "metadata": {},
   "outputs": [],
   "source": [
    "Bitcoin[[\"Turnover\"]].head() "
   ]
  },
  {
   "cell_type": "code",
   "execution_count": null,
   "id": "4edd77c2",
   "metadata": {},
   "outputs": [],
   "source": [
    "Bitcoin[[\"Date\",\"Price\",\"Volatility\"]].head() "
   ]
  },
  {
   "cell_type": "code",
   "execution_count": null,
   "id": "21cafd69",
   "metadata": {},
   "outputs": [],
   "source": [
    "Bitcoin.loc[:,[\"Date\",\"Price\",\"Volatility\"]].head() "
   ]
  },
  {
   "cell_type": "code",
   "execution_count": null,
   "id": "79962d20",
   "metadata": {},
   "outputs": [],
   "source": [
    "Bitcoin.loc[[0,5,10,19],[\"Date\",\"Price\",\"Volatility\"]]"
   ]
  },
  {
   "cell_type": "code",
   "execution_count": null,
   "id": "1affe4f8",
   "metadata": {},
   "outputs": [],
   "source": [
    "Bitcoin.describe()"
   ]
  },
  {
   "cell_type": "code",
   "execution_count": null,
   "id": "a1c3c237-2f04-48d4-b6a1-bbd07c8ee91b",
   "metadata": {},
   "outputs": [],
   "source": [
    "print(Bitcoin['Price']>6500)\n",
    "print(sum(Bitcoin['Price']>6500))"
   ]
  },
  {
   "cell_type": "code",
   "execution_count": null,
   "id": "66545179",
   "metadata": {},
   "outputs": [],
   "source": [
    "Bitcoin[Bitcoin['Price']>6500]"
   ]
  },
  {
   "cell_type": "code",
   "execution_count": null,
   "id": "14facf59",
   "metadata": {},
   "outputs": [],
   "source": [
    "Bitcoin = pd.read_csv(\"data/Bitcoin_missingdata.csv\") \n",
    "Bitcoin.tail()"
   ]
  },
  {
   "cell_type": "code",
   "execution_count": null,
   "id": "9a64ad4d",
   "metadata": {},
   "outputs": [],
   "source": [
    "type(Bitcoin.loc[1,'Date'])"
   ]
  },
  {
   "cell_type": "code",
   "execution_count": null,
   "id": "bd17da2b",
   "metadata": {},
   "outputs": [],
   "source": [
    "date = pd.to_datetime(Bitcoin['Date'])\n",
    "print(date)"
   ]
  },
  {
   "cell_type": "code",
   "execution_count": null,
   "id": "cd95ed79",
   "metadata": {},
   "outputs": [],
   "source": [
    "turn = Bitcoin[\"Turnover\"]\n",
    "print(turn)"
   ]
  },
  {
   "cell_type": "code",
   "execution_count": null,
   "id": "37e8ad00",
   "metadata": {},
   "outputs": [],
   "source": [
    "turn.isnull()"
   ]
  },
  {
   "cell_type": "code",
   "execution_count": null,
   "id": "cbc5740e",
   "metadata": {},
   "outputs": [],
   "source": [
    "sum(turn.isnull())"
   ]
  },
  {
   "cell_type": "code",
   "execution_count": null,
   "id": "42ea4595",
   "metadata": {},
   "outputs": [],
   "source": [
    "Bitcoin[turn.isnull()]"
   ]
  },
  {
   "cell_type": "code",
   "execution_count": null,
   "id": "d8cee7fe",
   "metadata": {},
   "outputs": [],
   "source": [
    "turn.fillna(50)#turn.fillna(50)"
   ]
  },
  {
   "cell_type": "code",
   "execution_count": null,
   "id": "11441126",
   "metadata": {},
   "outputs": [],
   "source": [
    "#turn.fillna(method = 'bfill')\n",
    "# try:\n",
    "#turn.fillna(method = 'ffill')\n",
    "# or\n",
    "turn.bfill()"
   ]
  },
  {
   "cell_type": "code",
   "execution_count": null,
   "id": "1dce0178",
   "metadata": {},
   "outputs": [],
   "source": [
    "turn.fillna(turn.median())"
   ]
  },
  {
   "cell_type": "code",
   "execution_count": null,
   "id": "8d21617b",
   "metadata": {},
   "outputs": [],
   "source": [
    "help(pd.DataFrame.fillna)"
   ]
  },
  {
   "cell_type": "code",
   "execution_count": null,
   "id": "22fa2da2",
   "metadata": {},
   "outputs": [],
   "source": [
    "df = pd.read_csv(\"data/Bitcoin_missingdata.csv\") \n",
    "print(df.isnull())"
   ]
  },
  {
   "cell_type": "code",
   "execution_count": null,
   "id": "2ed16f73",
   "metadata": {},
   "outputs": [],
   "source": [
    "values = {\"Hash_rate\": df['Hash_rate'].min(), \"Miners_profits\": df['Miners_profits'].max(), \"Turnover\": 0}\n",
    "df_fill = df.fillna(value = values)\n",
    "display(df_fill)"
   ]
  },
  {
   "cell_type": "code",
   "execution_count": null,
   "id": "a0563430",
   "metadata": {},
   "outputs": [],
   "source": [
    "df_new=df.dropna()\n",
    "print(df_new.shape)\n",
    "display(df_new)"
   ]
  },
  {
   "cell_type": "code",
   "execution_count": null,
   "id": "6c3fbdc2",
   "metadata": {},
   "outputs": [],
   "source": [
    "df_all = df.dropna(how = \"all\")\n",
    "print(df_all.shape)\n",
    "df_all"
   ]
  },
  {
   "cell_type": "code",
   "execution_count": null,
   "id": "86973b07",
   "metadata": {},
   "outputs": [],
   "source": [
    "df_any = df.dropna(how = \"any\")\n",
    "print(df_any.shape)"
   ]
  },
  {
   "cell_type": "markdown",
   "id": "8edbc106",
   "metadata": {},
   "source": [
    "## 3 Matplotlib <a class=\"anchor\" id=\"3\"></a>\n",
    "\n",
    "Stay tuned!"
   ]
  }
 ],
 "metadata": {
  "kernelspec": {
   "display_name": "Python 3 (ipykernel)",
   "language": "python",
   "name": "python3"
  },
  "language_info": {
   "codemirror_mode": {
    "name": "ipython",
    "version": 3
   },
   "file_extension": ".py",
   "mimetype": "text/x-python",
   "name": "python",
   "nbconvert_exporter": "python",
   "pygments_lexer": "ipython3",
   "version": "3.11.7"
  }
 },
 "nbformat": 4,
 "nbformat_minor": 5
}
